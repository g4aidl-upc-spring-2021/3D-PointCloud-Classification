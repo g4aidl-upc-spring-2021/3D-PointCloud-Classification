{
  "nbformat": 4,
  "nbformat_minor": 0,
  "metadata": {
    "colab": {
      "name": "Final GCN document.ipynb",
      "provenance": [],
      "collapsed_sections": []
    },
    "kernelspec": {
      "name": "python3",
      "display_name": "Python 3"
    },
    "language_info": {
      "name": "python"
    },
    "accelerator": "GPU"
  },
  "cells": [
    {
      "cell_type": "markdown",
      "metadata": {
        "id": "jXkCWWsrtvhX"
      },
      "source": [
        "# Setup"
      ]
    },
    {
      "cell_type": "markdown",
      "metadata": {
        "id": "JuAOf6rczlR8"
      },
      "source": [
        "## Check GPU\n",
        "In order to perform the experiments in a reasonable time, check whether the GPU has at least 15GiB. If it is not, it's necessary to restart the runtime until this requirement is satisfied"
      ]
    },
    {
      "cell_type": "code",
      "metadata": {
        "id": "YtkYCXLDtnFy"
      },
      "source": [
        "!nvidia-smi"
      ],
      "execution_count": null,
      "outputs": []
    },
    {
      "cell_type": "markdown",
      "metadata": {
        "id": "IW_7Ofa8uJ2N"
      },
      "source": [
        "## Installations and imports\n"
      ]
    },
    {
      "cell_type": "markdown",
      "metadata": {
        "id": "i_Lhkgjszi9e"
      },
      "source": [
        "### Installations\n",
        "As some libraries that are not in the default version in colab are used, it is necessary to install them"
      ]
    },
    {
      "cell_type": "code",
      "metadata": {
        "id": "eJJ_WspuuHl4"
      },
      "source": [
        "!pip install torch-scatter -f https://pytorch-geometric.com/whl/torch-1.9.0+cu102.html\n",
        "!pip install torch-sparse -f https://pytorch-geometric.com/whl/torch-1.9.0+cu102.html\n",
        "!pip install torch-cluster -f https://pytorch-geometric.com/whl/torch-1.9.0+cu102.html\n",
        "!pip install torch-geometric -f https://pytorch-geometric.com/whl/torch-1.9.0+cu102.html\n",
        "\n",
        "!pip install torchmetrics"
      ],
      "execution_count": null,
      "outputs": []
    },
    {
      "cell_type": "markdown",
      "metadata": {
        "id": "DMkOkC8pua4M"
      },
      "source": [
        "### Imports\n",
        "In the next snippet of code there are all the imports necessaries for the project and the tensorboard is initialized."
      ]
    },
    {
      "cell_type": "code",
      "metadata": {
        "id": "e_hW0nahumSt"
      },
      "source": [
        "import os\n",
        "import datetime\n",
        "import numpy as np\n",
        "\n",
        "import tensorflow\n",
        "import tensorboard\n",
        "import plotly.graph_objects as go\n",
        "\n",
        "import torch\n",
        "from torch import nn\n",
        "from torch.nn import functional as F\n",
        "from torch.utils.tensorboard import SummaryWriter\n",
        "\n",
        "from torchmetrics import Accuracy\n",
        "\n",
        "from torch_geometric.nn import GCNConv, global_max_pool\n",
        "from torch_geometric.data import DataLoader\n",
        "from torch_geometric.datasets import ModelNet\n",
        "\n",
        "from torch_geometric.transforms import SamplePoints, NormalizeScale, RandomFlip, RandomRotate, Compose, KNNGraph\n",
        "\n",
        "%reload_ext tensorboard"
      ],
      "execution_count": 3,
      "outputs": []
    },
    {
      "cell_type": "markdown",
      "metadata": {
        "id": "N8ES3WU2vlBt"
      },
      "source": [
        "## Hyperparameters"
      ]
    },
    {
      "cell_type": "code",
      "metadata": {
        "id": "ncrMD2XZvxXn"
      },
      "source": [
        "hparams = {\n",
        "    'bs': 32,\n",
        "    'epochs': 100,\n",
        "    'device': torch.device('cuda:0' if torch.cuda.is_available() else 'cpu'),\n",
        "    'tb_logs': '/content/drive/MyDrive/Adapt',\n",
        "    'tb_name': 'tb_' + str(datetime.datetime.utcnow()),\n",
        "    'drive_root': '/content/drive/MyDrive/Dataset/',\n",
        "    'normalize_scale': True, \n",
        "    'data_augmentation': 'flip_rotate',\n",
        "    'fixed_num_of_points': 1024,\n",
        "    'flip_probability': 0.5,\n",
        "    'flip_axis': 1,\n",
        "    'rotate_degrees': 45,\n",
        "    'rotate_axis': 0,\n",
        "    'model_log': '/content/drive/MyDrive/Adapt',\n",
        "    'k': 3,\n",
        "    'num_classes': 10,\n",
        "    'level': 3,\n",
        "    'dropout': 0.3,\n",
        "    'optimizer': 'Adam',\n",
        "    'lr': 1e-3,\n",
        "    'wd': 1e-3,\n",
        "    'momentum': 0.9,\n",
        "    'scheduler': 'OneCycleLR',\n",
        "    'gamma': 0.5,\n",
        "    'patience': 10,\n",
        "    'step_size': 20\n",
        "}"
      ],
      "execution_count": 4,
      "outputs": []
    },
    {
      "cell_type": "markdown",
      "metadata": {
        "id": "sfTHZ9mwv6xE"
      },
      "source": [
        "## Seeds "
      ]
    },
    {
      "cell_type": "code",
      "metadata": {
        "id": "DUnHQOUJv898"
      },
      "source": [
        "seed = 42\n",
        "# Controlling sources of randomness\n",
        "torch.manual_seed(seed) # generate random numbers for all devices (both CPU and CUDA)\n",
        "# Random number generators in other libraries:\n",
        "np.random.seed(seed)\n",
        "# CUDA convolution benchmarking:\n",
        "torch.backends.cudnn.benchmark = False # ensures that CUDA selects the same algorithm each time an application is run"
      ],
      "execution_count": 5,
      "outputs": []
    },
    {
      "cell_type": "markdown",
      "metadata": {
        "id": "1o14VlVAwDoz"
      },
      "source": [
        "# Model - Graph convolutional Network"
      ]
    },
    {
      "cell_type": "code",
      "metadata": {
        "id": "GsjZajvrwGJE"
      },
      "source": [
        "class GCN(nn.Module):\n",
        "  def __init__(self, k=3, num_classes=10, level=3, dropout=0.3):\n",
        "      super().__init__()\n",
        "      self.k = k\n",
        "      self.level = level\n",
        "      self.classes = num_classes\n",
        "      self.last_hidden_layer = 8 * 2**self.level\n",
        "\n",
        "      self.conv1 = GCNConv(self.k, 16)\n",
        "      self.conv2 = GCNConv(16, 32)\n",
        "      self.conv3 = GCNConv(32, 64)\n",
        "      self.fc = nn.Linear(self.last_hidden_layer, self.classes)\n",
        "\n",
        "      self.bn1 = nn.BatchNorm1d(16)\n",
        "      self.bn2 = nn.BatchNorm1d(32)\n",
        "      self.bn3 = nn.BatchNorm1d(64)\n",
        "\n",
        "      self.dropout = nn.Dropout(p=dropout) if dropout is not None else None\n",
        "\n",
        "  def forward(self, x, edge_index, batch):\n",
        "      # 1. Obtain node embeddings\n",
        "      x = self.conv1(x, edge_index)\n",
        "      x = self.dropout(x) if self.level == 1 and self.dropout is not None else x\n",
        "      x = F.relu(self.bn1(x))\n",
        "\n",
        "      if self.level >= 2:\n",
        "          x = self.conv2(x, edge_index)\n",
        "          x = self.dropout(x) if self.level == 2 and self.dropout is not None else x\n",
        "          x = F.relu(self.bn2(x))\n",
        "\n",
        "      if self.level >= 3:\n",
        "          x = self.conv3(x, edge_index)\n",
        "          x = self.dropout(x) if self.level == 3 and self.dropout is not None else x\n",
        "          x = F.relu(self.bn3(x))\n",
        "\n",
        "      # 2. Readout layer: Aggregate node embeddings into a unified graph embedding\n",
        "      x = global_max_pool(x, batch)  # [batch_size=32, hidden_channels=64]\n",
        "\n",
        "      # 3. Apply a final classifier\n",
        "      x = self.fc(x)\n",
        "\n",
        "      return x, F.softmax(x, dim=1)"
      ],
      "execution_count": 6,
      "outputs": []
    },
    {
      "cell_type": "markdown",
      "metadata": {
        "id": "tMop5xGPwO05"
      },
      "source": [
        "# Dataset\n",
        "First of all, it is necessary to make the drive folder with the dataset available to this collab in order not to download it every time. "
      ]
    },
    {
      "cell_type": "code",
      "metadata": {
        "colab": {
          "base_uri": "https://localhost:8080/"
        },
        "id": "nimVsjqRwdeM",
        "outputId": "773dbd4a-01a3-4a45-ce75-32d8165d9026"
      },
      "source": [
        "from google.colab import drive\n",
        "drive.mount('/content/drive', force_remount=True)"
      ],
      "execution_count": 7,
      "outputs": [
        {
          "output_type": "stream",
          "text": [
            "Mounted at /content/drive\n"
          ],
          "name": "stdout"
        }
      ]
    },
    {
      "cell_type": "markdown",
      "metadata": {
        "id": "a-9UhaL9whH0"
      },
      "source": [
        "## Transformations\n",
        "In this project is necessary to use some transformations to either normalize the data or to perform data augmentation."
      ]
    },
    {
      "cell_type": "code",
      "metadata": {
        "id": "D1PbuRkFwgAk"
      },
      "source": [
        "def get_pre_transformation(number_points=1024):\n",
        "    return SamplePoints(num=number_points)\n",
        "\n",
        "def get_transformation(normalize_scale):\n",
        "    if normalize_scale:  \n",
        "      return Compose([NormalizeScale(), KNNGraph(k=9, loop=True, force_undirected=True)])\n",
        "    else:\n",
        "        return KNNGraph(k=9, loop=True, force_undirected=True)\n",
        "\n",
        "def get_random_flip(axis=1, p=0.5):\n",
        "    return RandomFlip(axis, p)\n",
        "\n",
        "\n",
        "def get_random_rotation(degrees=45, axis=1):\n",
        "    return RandomRotate(degrees, axis)\n",
        "\n",
        "\n",
        "def data_augmentation_flip(normalize_scale, axis=1, p=0.5):\n",
        "    return Compose([get_transformation(normalize_scale), get_random_flip(axis, p)])\n",
        "\n",
        "\n",
        "def data_augmentation_rotation(normalize_scale, axis=1, degrees=45):\n",
        "    return Compose([get_transformation(normalize_scale), get_random_rotation(axis=axis, degrees=degrees)])\n",
        "\n",
        "\n",
        "def data_augmentation_flip_rotation(normalize_scale, axis_flip=1, p=0.5, axis_rotation=1, degrees=45):\n",
        "    return Compose([get_transformation(normalize_scale), get_random_flip(axis_flip, p),\n",
        "                    get_random_rotation(axis=axis_rotation, degrees=degrees)])\n",
        "\n",
        "\n",
        "def get_data_augmentation(dataset, transformation, normalize_scale, axis_flip=1, p=0.5, axis_rotation=1, degrees=45):\n",
        "  if transformation is not None:\n",
        "    if transformation.lower() == 'flip_rotation':\n",
        "        dataset.transform = data_augmentation_flip_rotation(normalize_scale, axis_flip, p, axis_rotation, degrees)\n",
        "    elif transformation.lower() == 'flip':\n",
        "        dataset.transform = data_augmentation_flip(normalize_scale, axis=axis_flip, p=p)\n",
        "    elif transformation.lower() == 'rotate':\n",
        "        dataset.transform = data_augmentation_rotation(normalize_scale, axis=axis_rotation, degrees=degrees)\n"
      ],
      "execution_count": 8,
      "outputs": []
    },
    {
      "cell_type": "markdown",
      "metadata": {
        "id": "hOIlQzFAwyRk"
      },
      "source": [
        "## Training, validation and test data"
      ]
    },
    {
      "cell_type": "markdown",
      "metadata": {
        "id": "0jUY_tEXzdyk"
      },
      "source": [
        "In this step, some processing of the data is going to be used to be able to feed it to the model. "
      ]
    },
    {
      "cell_type": "code",
      "metadata": {
        "id": "bmvjpqwHxAlB"
      },
      "source": [
        "def get_dataset(root, transform, pre_transform):\n",
        "    train_valid_dataset = ModelNet(root=root, name=\"10\", train=True, pre_transform=pre_transform, transform=transform)\n",
        "    test_dataset = ModelNet(root=root, name=\"10\", train=False, pre_transform=pre_transform, transform=transform)\n",
        "    return train_valid_dataset, test_dataset\n",
        "\n",
        "# Function used to split between validation and training\n",
        "def get_split(index_file_root, dataset):\n",
        "    index_file = open(index_file_root, 'r')\n",
        "    train_index = []\n",
        "    for idx in index_file:\n",
        "        train_index.append(int(idx))\n",
        "\n",
        "    return dataset[train_index]\n",
        "\n",
        "# Function to decide which points are used in validation and which ones in training\n",
        "def create_file_if_necessary(train_file, valid_file, dataset):\n",
        "    if not os.path.isfile(train_file) and not os.path.isfile(valid_file):\n",
        "        torch.manual_seed(0)\n",
        "        # Shuffle before splitting data (random split)\n",
        "        _, perm = dataset.shuffle(return_perm=True)\n",
        "\n",
        "        # Create two files with the indices od the training and validation data\n",
        "        train_idx = open(train_file, 'w+')\n",
        "        valid_idx = open(valid_file, 'w+')\n",
        "\n",
        "        # Split the tensor of indices in training and validation\n",
        "        train_split, val_split = perm.split(round(len(perm) * 0.8))\n",
        "\n",
        "        for i in range(len(train_split)):\n",
        "            train_idx.writelines(str(train_split[i].item()) + \"\\n\")\n",
        "        for i in range(len(val_split)):\n",
        "            valid_idx.writelines(str(val_split[i].item()) + \"\\n\")\n",
        "        \n",
        "        print(\"New split file has been created\")\n",
        "\n",
        "        train_idx.close()\n",
        "        valid_idx.close()\n",
        "\n",
        "    elif not os.path.isfile(train_file) or not os.path.isfile(valid_file):\n",
        "        raise ValueError('One file exists and the other one does not')\n",
        "\n",
        "# Function to be called when creating dataset \n",
        "def get_train_valid_test_ModelNet(root, number_points=1024, normalize_scale=True):\n",
        "    dataset_root = os.path.join(root, 'ModelNet')\n",
        "    train_valid_split, test_split = get_dataset(dataset_root, transform=get_transformation(normalize_scale),\n",
        "                                                pre_transform=SamplePoints(num=number_points))\n",
        "\n",
        "    train_split_root = os.path.join(root, 'train_split.txt')\n",
        "    valid_split_root = os.path.join(root, 'val_split.txt')\n",
        "    create_file_if_necessary(train_split_root, valid_split_root, train_valid_split)\n",
        "\n",
        "    train_split = get_split(index_file_root=train_split_root, dataset=train_valid_split)\n",
        "    valid_split = get_split(index_file_root=valid_split_root, dataset=train_valid_split)\n",
        "    return train_split, valid_split, test_split"
      ],
      "execution_count": 9,
      "outputs": []
    },
    {
      "cell_type": "markdown",
      "metadata": {
        "id": "U7LaMP_oxhEG"
      },
      "source": [
        "# Helper functions"
      ]
    },
    {
      "cell_type": "markdown",
      "metadata": {
        "id": "xq91dl5Lzabu"
      },
      "source": [
        "As there are some functionalities that are used by different functions or can be used in the future, a list of helpers fucntions has been created"
      ]
    },
    {
      "cell_type": "code",
      "metadata": {
        "id": "rPM0ugw7xv5E"
      },
      "source": [
        "# Initialize the tensorflow\n",
        "def get_tensorboard_writer(root):\n",
        "    tensorflow.io.gfile = tensorboard.compat.tensorflow_stub.io.gfile  # avoid tensorboard crash when adding embeddings\n",
        "    train_log_dir = os.path.join(root, datetime.datetime.now().strftime(\"%Y%m%d-%H%M%S\"), 'train')\n",
        "    valid_log_dir = os.path.join(root, datetime.datetime.now().strftime(\"%Y%m%d-%H%M%S\"), 'valid')\n",
        "    train_writer = SummaryWriter(log_dir=train_log_dir)\n",
        "    valid_writer = SummaryWriter(log_dir=valid_log_dir)\n",
        "    return train_writer, valid_writer\n",
        "\n",
        "# Writes information of every epoch in the tensorboard\n",
        "def write_epoch_data(train_writer, valid_writer, train_loss, valid_loss, train_accuracy, valid_accuracy, epoch):\n",
        "    # Write Loss and Accuracy in tensorboard:\n",
        "    train_writer.add_scalar('Loss', train_loss, epoch)\n",
        "    train_writer.add_scalar('Accu', train_accuracy, epoch)\n",
        "    valid_writer.add_scalar('Loss', valid_loss, epoch)\n",
        "    valid_writer.add_scalar('Accu', valid_accuracy, epoch)\n",
        "\n",
        "# Funtion to save the best model so far\n",
        "def update_best_model(valid_accuracy, model_state_dict, model_root):\n",
        "    model_path = os.path.join(model_root, datetime.datetime.now().strftime(\"%Y%m%d%h\"))\n",
        "    torch.save(model_state_dict, model_path + '.pt')\n",
        "    return valid_accuracy, model_path\n",
        "\n",
        "# Method to visualize a cloud point with graph format\n",
        "def visualize_graph_point_cloud(point_cloud):\n",
        "    edge_index, points, y = point_cloud\n",
        "    edge_x = [], edge_y = [], edge_z = []\n",
        "    edges_index = edge_index[1].numpy().T\n",
        "    real_points = points[1].numpy()\n",
        "\n",
        "    # Get coordinates from adjacency matrix\n",
        "    for i, edge in enumerate(edges_index):\n",
        "        x0, y0, z0 = real_points[edge[0]]\n",
        "        x1, y1, z1 = real_points[edge[1]]\n",
        "        edge_x.extend([x0, x1, None])\n",
        "        edge_y.extend([y0, y1, None])\n",
        "        edge_z.extend([z0, z1, None])\n",
        "\n",
        "    edge_trace = go.Scatter3d(\n",
        "        x=edge_x, y=edge_y, z=edge_z,\n",
        "        line=dict(width=0.5, color='#888'),\n",
        "        hoverinfo='none',\n",
        "        mode='lines')\n",
        "\n",
        "    node_x = [], node_y = [], node_z = []\n",
        "    # Get node coordinates\n",
        "    for node in real_points:\n",
        "        x, y, z = node\n",
        "        node_x.append(x)\n",
        "        node_y.append(y)\n",
        "        node_z.append(z)\n",
        "\n",
        "    node_trace = go.Scatter3d(\n",
        "        x=node_x, y=node_y, z=node_z,\n",
        "        mode='markers',\n",
        "        hoverinfo='text',\n",
        "        marker=dict(\n",
        "            showscale=True,\n",
        "            # color scale options\n",
        "            # 'Greys' | 'YlGnBu' | 'Greens' | 'YlOrRd' | 'Bluered' | 'RdBu' |\n",
        "            # 'Reds' | 'Blues' | 'Picnic' | 'Rainbow' | 'Portland' | 'Jet' |\n",
        "            # 'Hot' | 'Blackbody' | 'Earth' | 'Electric' | 'Viridis' |\n",
        "            colorscale='YlGnBu',\n",
        "            reversescale=True,\n",
        "            color=[],\n",
        "            size=10,\n",
        "            colorbar=dict(\n",
        "                thickness=15,\n",
        "                title='Node Connections',\n",
        "                xanchor='left',\n",
        "                titleside='right'\n",
        "            ),\n",
        "            line_width=2))\n",
        "\n",
        "    fig = go.Figure(data=[edge_trace, node_trace],\n",
        "                    layout=go.Layout(\n",
        "                        title='<br>Network graph made with Python',\n",
        "                        titlefont_size=16,\n",
        "                        showlegend=False,\n",
        "                        hovermode='closest',\n",
        "                        margin=dict(b=20, l=5, r=5, t=40),\n",
        "                        annotations=[dict(\n",
        "                            showarrow=False,\n",
        "                            xref=\"paper\", yref=\"paper\",\n",
        "                            x=0.005, y=-0.002)],\n",
        "                        xaxis=dict(showgrid=False, zeroline=False, showticklabels=False),\n",
        "                        yaxis=dict(showgrid=False, zeroline=False, showticklabels=False))\n",
        "                    )\n",
        "    fig.show()"
      ],
      "execution_count": 10,
      "outputs": []
    },
    {
      "cell_type": "markdown",
      "metadata": {
        "id": "sbkT9nktxUS0"
      },
      "source": [
        "# Training and testing functions"
      ]
    },
    {
      "cell_type": "markdown",
      "metadata": {
        "id": "l4ic2rkAzW08"
      },
      "source": [
        "## Correct parameters\n",
        "As different experiments will be performed some variables need to be dependent on hyperparameters. That is why some functions have been used due to not modify the code when performing different experiments. Adding new conditions to the if - else statement, more schedulers or optimizers can be added."
      ]
    },
    {
      "cell_type": "code",
      "metadata": {
        "id": "JhcVsCBhxZrc"
      },
      "source": [
        "def get_optimizer(optimizer_name, model_parameters, lr, wd, momentum):\n",
        "    if optimizer_name.lower() == \"Adam\".lower():\n",
        "        return torch.optim.Adam(model_parameters, lr=lr, weight_decay=wd)\n",
        "    elif optimizer_name.upper() == \"SGD\":\n",
        "        return torch.optim.SGD(model_parameters, lr=lr, momentum=momentum)\n",
        "    else:\n",
        "        raise ValueError('Optimizer is not correctly introduced')\n",
        "\n",
        "def get_scheduler(scheduler_name, optimizer, lr=1e-3, gamma=0.5, patience=10, step_size=20, train_loader_len=1024,\n",
        "                  num_epochs=100):\n",
        "  if scheduler_name is not None:\n",
        "    if scheduler_name.lower() == 'StepLR'.lower():\n",
        "        return torch.optim.lr_scheduler.StepLR(optimizer, step_size=step_size, gamma=gamma), None, False\n",
        "    elif scheduler_name.lower() == 'ReduceLROnPlateau'.lower():\n",
        "        return torch.optim.lr_scheduler.ReduceLROnPlateau(optimizer, factor=gamma, patience=patience), None, True\n",
        "    elif scheduler_name.lower() == 'OneCycleLR'.lower():\n",
        "        scheduler = torch.optim.lr_scheduler.OneCycleLR(optimizer, lr, steps_per_epoch=train_loader_len,\n",
        "                                                        epochs=num_epochs)\n",
        "        return scheduler, scheduler, None\n",
        "    else:\n",
        "      raise ValueError('Incorrect scheduler')\n",
        "  else:\n",
        "    print('No scheduler')\n",
        "    return None, None, None"
      ],
      "execution_count": 11,
      "outputs": []
    },
    {
      "cell_type": "markdown",
      "metadata": {
        "id": "TMifOI3kzM0d"
      },
      "source": [
        "## Training loop"
      ]
    },
    {
      "cell_type": "code",
      "metadata": {
        "id": "nVbOedv_zQWF"
      },
      "source": [
        "# Train One Epoch:\n",
        "def train_epoch(model, train_loader, optimizer, criterion, accuracy, device, scheduler):\n",
        "    # Model in train mode:\n",
        "    model.train()\n",
        "    # List for epoch loss:\n",
        "    epoch_train_loss = []\n",
        "    # Metric stored information reset:\n",
        "    accuracy.reset()\n",
        "    # Train epoch loop:\n",
        "    for i, data in enumerate(train_loader, 1):\n",
        "        # Data retrieval from each bath:\n",
        "        points = data.pos.to(device)\n",
        "        targets = data.y.to(device)\n",
        "        # Forward pass:\n",
        "        preds, probs = model(points, data.edge_index.to(device), data.batch.to(device))  \n",
        "        # Loss calculation + Backpropagation pass\n",
        "        optimizer.zero_grad()\n",
        "        loss = criterion(preds.to(device), targets)\n",
        "        epoch_train_loss.append(loss.item())\n",
        "        loss.backward()\n",
        "        optimizer.step()\n",
        "\n",
        "        # Step for OneCycle scheduler\n",
        "        if scheduler is not None:\n",
        "            scheduler.step()\n",
        "\n",
        "        # Batch metrics calculation:\n",
        "        accuracy.update(probs, targets)\n",
        "\n",
        "    # Mean epoch metrics calculation:\n",
        "    mean_loss = np.mean(epoch_train_loss)\n",
        "    mean_accu = accuracy.compute().item()\n",
        "    # Print of all metrics:\n",
        "    print('Train loss: ', mean_loss, \"| Acc.: \" , mean_accu)\n",
        "    return mean_loss, mean_accu\n",
        "\n",
        "\n",
        "# Valid One Epoch:\n",
        "def valid_epoch(model, valid_loader, criterion, accuracy, device):\n",
        "    # Model in validation (evaluation) mode:\n",
        "    model.eval()\n",
        "    # List for epoch loss:\n",
        "    epoch_valid_loss = []\n",
        "    # Metric stored information reset:\n",
        "    accuracy.reset()\n",
        "    # Batch loop for validation:\n",
        "    with torch.no_grad():\n",
        "        for i, data in enumerate(valid_loader, 1):\n",
        "            # Data retrieval from each bath:\n",
        "            points = data.pos.to(device)\n",
        "            targets = data.y.to(device)\n",
        "            \n",
        "            # Forward pass:\n",
        "            preds, probs = model(points, data.edge_index.to(device), data.batch.to(device))  \n",
        "            # Loss calculation\n",
        "            loss = criterion(preds.to(device), targets)\n",
        "            epoch_valid_loss.append(loss.item())\n",
        "            # Batch metrics calculation:\n",
        "            accuracy.update(probs, targets)\n",
        "    # Mean epoch metrics calculation:\n",
        "    mean_loss = np.mean(epoch_valid_loss)\n",
        "    mean_accu = accuracy.compute().item()\n",
        "    # Print of all metrics:\n",
        "    print('Valid loss: ', mean_loss, \"| Acc.: \", mean_accu)\n",
        "    return mean_loss, mean_accu\n",
        "\n",
        "\n",
        "def fit(train_data, valid_data, num_classes, k=3, bs=32, num_epochs=100, lr=1e-3):\n",
        "    # Data Loaders for train and validation:\n",
        "    train_loader = DataLoader(train_data, batch_size=bs, shuffle=True)\n",
        "    valid_loader = DataLoader(valid_data, batch_size=bs, shuffle=False)\n",
        "\n",
        "    # Obtain correct model\n",
        "    model = GCN(k, num_classes, hparams['level'], hparams['dropout']).to(hparams['device'])\n",
        "\n",
        "    optimizer = get_optimizer(hparams['optimizer'], model.parameters(), lr, hparams['wd'], hparams['momentum'])\n",
        "\n",
        "    # Obtain correct scheduler: train scheduler is used to determine wheteher or not there is a scheduler in the train fucntion,\n",
        "    # the fit scheduler can have three values: None (no scheduler in fit function), True (needs the valid loss parameter), \n",
        "    # False(no need of extra parameter)\n",
        "    scheduler, train_scheduler, fit_scheduler = get_scheduler(hparams['scheduler'], optimizer, lr, hparams['gamma'],\n",
        "                                                              hparams['patience'], hparams['step_size'],\n",
        "                                                              len(train_loader), num_epochs)\n",
        "    criterion = nn.CrossEntropyLoss().to(hparams['device'])\n",
        "\n",
        "    # Metric\n",
        "    accuracy = Accuracy(average='micro', compute_on_step=False).to(hparams['device'])\n",
        "\n",
        "    # Tensorboard set up\n",
        "    train_writer, valid_writer = get_tensorboard_writer(hparams['tb_logs'])\n",
        "\n",
        "    # Minimum accuracy to save the model\n",
        "    best_accuracy = 0.0\n",
        "    model_root = None\n",
        "    print('Start training...')\n",
        "    for epoch in range(1, num_epochs + 1):\n",
        "        print('Epoch: ', epoch)\n",
        "        # Train and validation\n",
        "        train_loss, train_accu = train_epoch(model, train_loader, optimizer, criterion, accuracy, hparams['device'],\n",
        "                                             train_scheduler)\n",
        "        valid_loss, valid_accu = valid_epoch(model, valid_loader, criterion, accuracy, hparams['device'])\n",
        "\n",
        "        if fit_scheduler is not None:\n",
        "            scheduler.step(valid_loss) if fit_scheduler else scheduler.step()\n",
        "\n",
        "        write_epoch_data(train_writer, valid_writer, train_loss, valid_loss, train_accu, valid_accu, epoch)\n",
        "\n",
        "        # Save best model:\n",
        "        if best_accuracy < valid_accu:\n",
        "            best_accuracy, model_root = update_best_model(valid_accu, model.state_dict(), hparams['model_log'])\n",
        "\n",
        "    final_state_dict_root = model_root + '.pt'\n",
        "    model.load_state_dict(torch.load(final_state_dict_root))\n",
        "    print(\"Best val accuracy: \", best_accuracy)\n",
        "    return best_accuracy, final_state_dict_root"
      ],
      "execution_count": 12,
      "outputs": []
    },
    {
      "cell_type": "markdown",
      "metadata": {
        "id": "m_MA21fX1NQO"
      },
      "source": [
        "## Test inference"
      ]
    },
    {
      "cell_type": "code",
      "metadata": {
        "id": "JPtA3HPO1RMD"
      },
      "source": [
        "def test(test_data, model_state_dict_root):\n",
        "    test_loader = DataLoader(test_data, batch_size=1, shuffle=False)\n",
        "    model = GCN(hparams['k'], hparams['num_classes'], hparams['level'], hparams['dropout']).to(hparams['device'])\n",
        "\n",
        "    accuracy = Accuracy(average='micro', compute_on_step=False).to(hparams['device'])\n",
        "    model.load_state_dict(torch.load(model_state_dict_root))\n",
        "    model.eval()\n",
        "    # Metric stored information reset:\n",
        "    accuracy.reset()\n",
        "    # Batch loop for validation:\n",
        "    with torch.no_grad():\n",
        "        for i, data in enumerate(test_loader, 1):\n",
        "          # Data retrieval from each bath:\n",
        "          points = data.pos.to(hparams['device'])\n",
        "          targets = data.y.to(hparams['device'])\n",
        "\n",
        "          # Forward pass:\n",
        "          preds, probs = model(points, data.edge_index.to(hparams['device']), data.batch.to(hparams['device']))  \n",
        "\n",
        "          # Batch metrics calculation:\n",
        "          accuracy.update(probs, targets)\n",
        "\n",
        "    mean_accu = accuracy.compute().item()\n",
        "    # Print of all metrics:\n",
        "    print(\"Test Acc.: \", mean_accu)\n",
        "    return mean_accu"
      ],
      "execution_count": 13,
      "outputs": []
    },
    {
      "cell_type": "markdown",
      "metadata": {
        "id": "Owzqu_US1Z4D"
      },
      "source": [
        "# Experiments\n",
        "More info in the README."
      ]
    },
    {
      "cell_type": "code",
      "metadata": {
        "id": "ss3bj3reF3zM"
      },
      "source": [
        "def execute_experiment():\n",
        "  train_dataset, valid_dataset, test_dataset = get_train_valid_test_ModelNet(hparams['drive_root'], hparams['fixed_num_of_points'], hparams['normalize_scale'])\n",
        "  get_data_augmentation(train_dataset, hparams['data_augmentation'], hparams['normalize_scale'], hparams['flip_axis'], hparams['flip_probability'],\n",
        "                        hparams['rotate_axis'], hparams['rotate_degrees'])\n",
        "  best_acc, state_dict_root = fit(train_dataset, valid_dataset, hparams['num_classes'], hparams['k'], hparams['bs'],\n",
        "                                  hparams['epochs'], hparams['lr'])\n",
        "\n",
        "  test_inference = test(test_dataset, state_dict_root)"
      ],
      "execution_count": 17,
      "outputs": []
    },
    {
      "cell_type": "code",
      "metadata": {
        "id": "5ONJsOIu1hMs"
      },
      "source": [
        "# Experiment 1\n",
        "hparams['optimizer'] = 'Adam'\n",
        "hparams['level']= 1\n",
        "hparams['normalize_scale'] = True\n",
        "hparams['dropout'] = None\n",
        "hparams['scheduler'] = None\n",
        "hparams['data_augmentation'] = None\n",
        "hparams['epochs'] = 100\n",
        "execute_experiment()\n"
      ],
      "execution_count": null,
      "outputs": []
    },
    {
      "cell_type": "code",
      "metadata": {
        "id": "9gwV1u-s_lEt"
      },
      "source": [
        "# Experiment 2\n",
        "hparams['optimizer'] = 'Adam'\n",
        "hparams['level']= 2\n",
        "hparams['normalize_scale'] = True\n",
        "hparams['dropout'] = None\n",
        "hparams['scheduler'] = None\n",
        "hparams['data_augmentation'] = None\n",
        "hparams['epochs'] = 100\n",
        "execute_experiment()"
      ],
      "execution_count": null,
      "outputs": []
    },
    {
      "cell_type": "code",
      "metadata": {
        "id": "F65D_0KrGDHu"
      },
      "source": [
        "# Experiment 3\n",
        "hparams['optimizer'] = 'Adam'\n",
        "hparams['level']= 3\n",
        "hparams['normalize_scale'] = True\n",
        "hparams['dropout'] = None\n",
        "hparams['scheduler'] = None\n",
        "hparams['data_augmentation'] = None\n",
        "hparams['epochs'] = 100\n",
        "execute_experiment()"
      ],
      "execution_count": null,
      "outputs": []
    },
    {
      "cell_type": "code",
      "metadata": {
        "id": "ZGOetxzLGcLX"
      },
      "source": [
        "# Experiment 4\n",
        "hparams['optimizer'] = 'Adam'\n",
        "hparams['level']= 3\n",
        "hparams['normalize_scale'] = True\n",
        "hparams['dropout'] = 0.3\n",
        "hparams['scheduler'] = None\n",
        "hparams['data_augmentation'] = None\n",
        "hparams['epochs'] = 100\n",
        "execute_experiment()"
      ],
      "execution_count": null,
      "outputs": []
    },
    {
      "cell_type": "code",
      "metadata": {
        "id": "rlC7YIzYGkRs"
      },
      "source": [
        "# Experiment 5\n",
        "hparams['optimizer'] = 'Adam'\n",
        "hparams['level']= 3\n",
        "hparams['normalize_scale'] = True\n",
        "hparams['dropout'] = 0.3\n",
        "hparams['scheduler'] = None\n",
        "hparams['data_augmentation'] = 'flip'\n",
        "hparams['epochs'] = 100\n",
        "execute_experiment()"
      ],
      "execution_count": null,
      "outputs": []
    },
    {
      "cell_type": "code",
      "metadata": {
        "id": "tNbTPKcEGujV"
      },
      "source": [
        "# Experiment 6\n",
        "hparams['optimizer'] = 'Adam'\n",
        "hparams['level']= 3\n",
        "hparams['normalize_scale'] = True\n",
        "hparams['dropout'] = 0.3\n",
        "hparams['scheduler'] = None\n",
        "hparams['data_augmentation'] = 'rotate'\n",
        "hparams['epochs'] = 100\n",
        "execute_experiment()"
      ],
      "execution_count": null,
      "outputs": []
    },
    {
      "cell_type": "code",
      "metadata": {
        "id": "-1biXe-VmBXe"
      },
      "source": [
        "# Experiment 7\n",
        "hparams['optimizer'] = 'Adam'\n",
        "hparams['level']= 3\n",
        "hparams['normalize_scale'] = True\n",
        "hparams['dropout'] = 0.3\n",
        "hparams['scheduler'] = None\n",
        "hparams['data_augmentation'] = 'flip_rotation'\n",
        "hparams['epochs'] = 100\n",
        "execute_experiment()"
      ],
      "execution_count": null,
      "outputs": []
    },
    {
      "cell_type": "code",
      "metadata": {
        "id": "thUSQ3dWmDWM"
      },
      "source": [
        "# Experiment 8\n",
        "hparams['optimizer'] = 'Adam'\n",
        "hparams['level']= 3\n",
        "hparams['normalize_scale'] = True\n",
        "hparams['dropout'] = 0.3\n",
        "hparams['scheduler'] = 'StepLR'\n",
        "hparams['data_augmentation'] = 'flip'\n",
        "hparams['epochs'] = 100\n",
        "execute_experiment()"
      ],
      "execution_count": null,
      "outputs": []
    },
    {
      "cell_type": "code",
      "metadata": {
        "id": "SSV-g9q1mPB1"
      },
      "source": [
        "# Experiment 9\n",
        "hparams['optimizer'] = 'Adam'\n",
        "hparams['level']= 3\n",
        "hparams['normalize_scale'] = True\n",
        "hparams['dropout'] = 0.3\n",
        "hparams['scheduler'] = 'StepLR'\n",
        "hparams['data_augmentation'] = 'flip_rotation'\n",
        "hparams['epochs'] = 100\n",
        "execute_experiment()"
      ],
      "execution_count": null,
      "outputs": []
    },
    {
      "cell_type": "code",
      "metadata": {
        "id": "z49gInDbmRSF"
      },
      "source": [
        "# Experiment 10\n",
        "hparams['optimizer'] = 'Adam'\n",
        "hparams['level']= 3\n",
        "hparams['normalize_scale'] = True\n",
        "hparams['dropout'] = 0.3\n",
        "hparams['scheduler'] = 'OneCycleLR'\n",
        "hparams['data_augmentation'] = 'flip'\n",
        "hparams['epochs'] = 100\n",
        "execute_experiment()"
      ],
      "execution_count": null,
      "outputs": []
    },
    {
      "cell_type": "code",
      "metadata": {
        "id": "gbSO_wdcq_mf"
      },
      "source": [
        "# Experiment 11\n",
        "hparams['optimizer'] = 'Adam'\n",
        "hparams['level']= 3\n",
        "hparams['normalize_scale'] = True\n",
        "hparams['dropout'] = 0.3\n",
        "hparams['scheduler'] = 'OneCycleLR'\n",
        "hparams['data_augmentation'] = 'flip_rotation'\n",
        "hparams['epochs'] = 100\n",
        "execute_experiment()"
      ],
      "execution_count": null,
      "outputs": []
    },
    {
      "cell_type": "code",
      "metadata": {
        "id": "d9k4xksYrKeW"
      },
      "source": [
        "# Experiment 12\n",
        "hparams['optimizer'] = 'SGD'\n",
        "hparams['level']= 3\n",
        "hparams['normalize_scale'] = True\n",
        "hparams['dropout'] = 0.3\n",
        "hparams['scheduler'] = None\n",
        "hparams['data_augmentation'] = 'flip'\n",
        "hparams['epochs'] = 100\n",
        "execute_experiment()"
      ],
      "execution_count": null,
      "outputs": []
    },
    {
      "cell_type": "code",
      "metadata": {
        "id": "cLcq23xMrNzO"
      },
      "source": [
        "# Experiment 13\n",
        "hparams['optimizer'] = 'SGD'\n",
        "hparams['level']= 3\n",
        "hparams['normalize_scale'] = True\n",
        "hparams['dropout'] = 0.3\n",
        "hparams['scheduler'] = None\n",
        "hparams['data_augmentation'] = 'flip_rotation'\n",
        "hparams['epochs'] = 100\n",
        "execute_experiment()"
      ],
      "execution_count": null,
      "outputs": []
    },
    {
      "cell_type": "code",
      "metadata": {
        "id": "lM09QTGErRYm"
      },
      "source": [
        "# Experiment 14\n",
        "hparams['optimizer'] = 'SGD'\n",
        "hparams['level']= 3\n",
        "hparams['normalize_scale'] = True\n",
        "hparams['dropout'] = 0.3\n",
        "hparams['scheduler'] = 'StepLR'\n",
        "hparams['data_augmentation'] = 'flip'\n",
        "hparams['epochs'] = 100\n",
        "execute_experiment()"
      ],
      "execution_count": null,
      "outputs": []
    },
    {
      "cell_type": "code",
      "metadata": {
        "id": "RsUvc4t0raNO"
      },
      "source": [
        "# Experiment 15\n",
        "hparams['optimizer'] = 'SGD'\n",
        "hparams['level']= 3\n",
        "hparams['normalize_scale'] = True\n",
        "hparams['dropout'] = 0.3\n",
        "hparams['scheduler'] = 'StepLR'\n",
        "hparams['data_augmentation'] = 'flip_rotation'\n",
        "hparams['epochs'] = 100\n",
        "execute_experiment()"
      ],
      "execution_count": null,
      "outputs": []
    },
    {
      "cell_type": "code",
      "metadata": {
        "id": "pmNx3iVQrcgG"
      },
      "source": [
        "# Experiment 16\n",
        "hparams['optimizer'] = 'SGD'\n",
        "hparams['level']= 3\n",
        "hparams['normalize_scale'] = True\n",
        "hparams['dropout'] = 0.3\n",
        "hparams['scheduler'] = 'OneCycleLR'\n",
        "hparams['data_augmentation'] = 'flip'\n",
        "hparams['epochs'] = 100\n",
        "execute_experiment()"
      ],
      "execution_count": null,
      "outputs": []
    },
    {
      "cell_type": "code",
      "metadata": {
        "id": "PcY7Hxupri4W"
      },
      "source": [
        "# Experiment 17\n",
        "hparams['optimizer'] = 'SGD'\n",
        "hparams['level']= 3\n",
        "hparams['normalize_scale'] = True\n",
        "hparams['dropout'] = 0.3\n",
        "hparams['scheduler'] = 'OneCycleLR'\n",
        "hparams['data_augmentation'] = 'flip_rotation'\n",
        "hparams['epochs'] = 100\n",
        "execute_experiment()"
      ],
      "execution_count": null,
      "outputs": []
    }
  ]
}